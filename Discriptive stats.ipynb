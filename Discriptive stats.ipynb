{
 "cells": [
  {
   "cell_type": "markdown",
   "id": "b1310207",
   "metadata": {},
   "source": [
    "<h1 style=\"color:red;background-color:DodgerBlue; text-align:center;margin:5px;padding:15px; border:50px solid green;\">Discriptive Stats</h1>"
   ]
  },
  {
   "cell_type": "code",
   "execution_count": 2,
   "id": "fba0929c",
   "metadata": {},
   "outputs": [],
   "source": [
    "%matplotlib inline"
   ]
  },
  {
   "cell_type": "code",
   "execution_count": 3,
   "id": "3a7da679",
   "metadata": {
    "scrolled": true
   },
   "outputs": [
    {
     "name": "stdout",
     "output_type": "stream",
     "text": [
      "Requirement already satisfied: seaborn in c:\\users\\hp\\anaconda3\\lib\\site-packages (0.11.2)\n",
      "Requirement already satisfied: scipy>=1.0 in c:\\users\\hp\\anaconda3\\lib\\site-packages (from seaborn) (1.7.1)\n",
      "Requirement already satisfied: pandas>=0.23 in c:\\users\\hp\\anaconda3\\lib\\site-packages (from seaborn) (1.3.4)\n",
      "Requirement already satisfied: matplotlib>=2.2 in c:\\users\\hp\\anaconda3\\lib\\site-packages (from seaborn) (3.4.3)\n",
      "Requirement already satisfied: numpy>=1.15 in c:\\users\\hp\\anaconda3\\lib\\site-packages (from seaborn) (1.20.3)\n",
      "Requirement already satisfied: cycler>=0.10 in c:\\users\\hp\\anaconda3\\lib\\site-packages (from matplotlib>=2.2->seaborn) (0.10.0)\n",
      "Requirement already satisfied: pyparsing>=2.2.1 in c:\\users\\hp\\anaconda3\\lib\\site-packages (from matplotlib>=2.2->seaborn) (3.0.4)\n",
      "Requirement already satisfied: kiwisolver>=1.0.1 in c:\\users\\hp\\anaconda3\\lib\\site-packages (from matplotlib>=2.2->seaborn) (1.3.1)\n",
      "Requirement already satisfied: pillow>=6.2.0 in c:\\users\\hp\\anaconda3\\lib\\site-packages (from matplotlib>=2.2->seaborn) (8.4.0)\n",
      "Requirement already satisfied: python-dateutil>=2.7 in c:\\users\\hp\\anaconda3\\lib\\site-packages (from matplotlib>=2.2->seaborn) (2.8.2)\n",
      "Requirement already satisfied: six in c:\\users\\hp\\anaconda3\\lib\\site-packages (from cycler>=0.10->matplotlib>=2.2->seaborn) (1.16.0)\n",
      "Requirement already satisfied: pytz>=2017.3 in c:\\users\\hp\\anaconda3\\lib\\site-packages (from pandas>=0.23->seaborn) (2021.3)\n",
      "Note: you may need to restart the kernel to use updated packages.\n"
     ]
    }
   ],
   "source": [
    "pip install seaborn"
   ]
  },
  {
   "cell_type": "markdown",
   "id": "520669d0",
   "metadata": {},
   "source": [
    "<h2><p style='color:white;background-color:blue;padding:5px;margin:2px;text-align:center;border-color:red;border-style:dotted;border-width:5px'>Import Libraries</p></h2>"
   ]
  },
  {
   "cell_type": "code",
   "execution_count": 4,
   "id": "4766933a",
   "metadata": {},
   "outputs": [],
   "source": [
    "import numpy as np\n",
    "import pandas as pd\n",
    "import matplotlib.pyplot as plt\n",
    "import seaborn as sns\n"
   ]
  },
  {
   "cell_type": "markdown",
   "id": "7b5363bc",
   "metadata": {},
   "source": [
    "<h2><p style='color:white;background-color:blue;padding:5px;margin:2px;text-align:center;border-color:red;border-style:dotted;border-width:5px'>Import warnings</p></h2>"
   ]
  },
  {
   "cell_type": "code",
   "execution_count": 5,
   "id": "9fe87734",
   "metadata": {},
   "outputs": [],
   "source": [
    "# Import warnings\n",
    "import warnings\n",
    "warnings.filterwarnings('ignore')\n",
    "\n",
    "## ipython\n",
    "# from Ipython.core.interactiveshell import InteractiveShell\n",
    "# InteractiveShell.ast_node_interactivity='all'"
   ]
  },
  {
   "cell_type": "markdown",
   "id": "31ddf5a3",
   "metadata": {},
   "source": [
    "<h2><p style='color:white;background-color:blue;padding:5px;margin:2px;text-align:center;border-color:red;border-style:dotted;border-width:5px'>seaborn Dataset</p></h2>"
   ]
  },
  {
   "cell_type": "code",
   "execution_count": 7,
   "id": "0ee1c9a7",
   "metadata": {},
   "outputs": [
    {
     "ename": "ConnectionAbortedError",
     "evalue": "[WinError 10053] An established connection was aborted by the software in your host machine",
     "output_type": "error",
     "traceback": [
      "\u001b[1;31m---------------------------------------------------------------------------\u001b[0m",
      "\u001b[1;31mConnectionAbortedError\u001b[0m                    Traceback (most recent call last)",
      "\u001b[1;32m~\\AppData\\Local\\Temp/ipykernel_21600/4035846998.py\u001b[0m in \u001b[0;36m<module>\u001b[1;34m\u001b[0m\n\u001b[0;32m      1\u001b[0m \u001b[1;31m# Available seaborn datasets\u001b[0m\u001b[1;33m\u001b[0m\u001b[1;33m\u001b[0m\u001b[0m\n\u001b[1;32m----> 2\u001b[1;33m \u001b[0mprint\u001b[0m\u001b[1;33m(\u001b[0m\u001b[0msns\u001b[0m\u001b[1;33m.\u001b[0m\u001b[0mget_dataset_names\u001b[0m\u001b[1;33m(\u001b[0m\u001b[1;33m)\u001b[0m\u001b[1;33m)\u001b[0m\u001b[1;33m\u001b[0m\u001b[1;33m\u001b[0m\u001b[0m\n\u001b[0m",
      "\u001b[1;32m~\\anaconda3\\lib\\site-packages\\seaborn\\utils.py\u001b[0m in \u001b[0;36mget_dataset_names\u001b[1;34m()\u001b[0m\n\u001b[0;32m    518\u001b[0m     \"\"\"\n\u001b[0;32m    519\u001b[0m     \u001b[0murl\u001b[0m \u001b[1;33m=\u001b[0m \u001b[1;34m\"https://github.com/mwaskom/seaborn-data\"\u001b[0m\u001b[1;33m\u001b[0m\u001b[1;33m\u001b[0m\u001b[0m\n\u001b[1;32m--> 520\u001b[1;33m     \u001b[1;32mwith\u001b[0m \u001b[0murlopen\u001b[0m\u001b[1;33m(\u001b[0m\u001b[0murl\u001b[0m\u001b[1;33m)\u001b[0m \u001b[1;32mas\u001b[0m \u001b[0mresp\u001b[0m\u001b[1;33m:\u001b[0m\u001b[1;33m\u001b[0m\u001b[1;33m\u001b[0m\u001b[0m\n\u001b[0m\u001b[0;32m    521\u001b[0m         \u001b[0mhtml\u001b[0m \u001b[1;33m=\u001b[0m \u001b[0mresp\u001b[0m\u001b[1;33m.\u001b[0m\u001b[0mread\u001b[0m\u001b[1;33m(\u001b[0m\u001b[1;33m)\u001b[0m\u001b[1;33m\u001b[0m\u001b[1;33m\u001b[0m\u001b[0m\n\u001b[0;32m    522\u001b[0m \u001b[1;33m\u001b[0m\u001b[0m\n",
      "\u001b[1;32m~\\anaconda3\\lib\\urllib\\request.py\u001b[0m in \u001b[0;36murlopen\u001b[1;34m(url, data, timeout, cafile, capath, cadefault, context)\u001b[0m\n\u001b[0;32m    212\u001b[0m     \u001b[1;32melse\u001b[0m\u001b[1;33m:\u001b[0m\u001b[1;33m\u001b[0m\u001b[1;33m\u001b[0m\u001b[0m\n\u001b[0;32m    213\u001b[0m         \u001b[0mopener\u001b[0m \u001b[1;33m=\u001b[0m \u001b[0m_opener\u001b[0m\u001b[1;33m\u001b[0m\u001b[1;33m\u001b[0m\u001b[0m\n\u001b[1;32m--> 214\u001b[1;33m     \u001b[1;32mreturn\u001b[0m \u001b[0mopener\u001b[0m\u001b[1;33m.\u001b[0m\u001b[0mopen\u001b[0m\u001b[1;33m(\u001b[0m\u001b[0murl\u001b[0m\u001b[1;33m,\u001b[0m \u001b[0mdata\u001b[0m\u001b[1;33m,\u001b[0m \u001b[0mtimeout\u001b[0m\u001b[1;33m)\u001b[0m\u001b[1;33m\u001b[0m\u001b[1;33m\u001b[0m\u001b[0m\n\u001b[0m\u001b[0;32m    215\u001b[0m \u001b[1;33m\u001b[0m\u001b[0m\n\u001b[0;32m    216\u001b[0m \u001b[1;32mdef\u001b[0m \u001b[0minstall_opener\u001b[0m\u001b[1;33m(\u001b[0m\u001b[0mopener\u001b[0m\u001b[1;33m)\u001b[0m\u001b[1;33m:\u001b[0m\u001b[1;33m\u001b[0m\u001b[1;33m\u001b[0m\u001b[0m\n",
      "\u001b[1;32m~\\anaconda3\\lib\\urllib\\request.py\u001b[0m in \u001b[0;36mopen\u001b[1;34m(self, fullurl, data, timeout)\u001b[0m\n\u001b[0;32m    515\u001b[0m \u001b[1;33m\u001b[0m\u001b[0m\n\u001b[0;32m    516\u001b[0m         \u001b[0msys\u001b[0m\u001b[1;33m.\u001b[0m\u001b[0maudit\u001b[0m\u001b[1;33m(\u001b[0m\u001b[1;34m'urllib.Request'\u001b[0m\u001b[1;33m,\u001b[0m \u001b[0mreq\u001b[0m\u001b[1;33m.\u001b[0m\u001b[0mfull_url\u001b[0m\u001b[1;33m,\u001b[0m \u001b[0mreq\u001b[0m\u001b[1;33m.\u001b[0m\u001b[0mdata\u001b[0m\u001b[1;33m,\u001b[0m \u001b[0mreq\u001b[0m\u001b[1;33m.\u001b[0m\u001b[0mheaders\u001b[0m\u001b[1;33m,\u001b[0m \u001b[0mreq\u001b[0m\u001b[1;33m.\u001b[0m\u001b[0mget_method\u001b[0m\u001b[1;33m(\u001b[0m\u001b[1;33m)\u001b[0m\u001b[1;33m)\u001b[0m\u001b[1;33m\u001b[0m\u001b[1;33m\u001b[0m\u001b[0m\n\u001b[1;32m--> 517\u001b[1;33m         \u001b[0mresponse\u001b[0m \u001b[1;33m=\u001b[0m \u001b[0mself\u001b[0m\u001b[1;33m.\u001b[0m\u001b[0m_open\u001b[0m\u001b[1;33m(\u001b[0m\u001b[0mreq\u001b[0m\u001b[1;33m,\u001b[0m \u001b[0mdata\u001b[0m\u001b[1;33m)\u001b[0m\u001b[1;33m\u001b[0m\u001b[1;33m\u001b[0m\u001b[0m\n\u001b[0m\u001b[0;32m    518\u001b[0m \u001b[1;33m\u001b[0m\u001b[0m\n\u001b[0;32m    519\u001b[0m         \u001b[1;31m# post-process response\u001b[0m\u001b[1;33m\u001b[0m\u001b[1;33m\u001b[0m\u001b[0m\n",
      "\u001b[1;32m~\\anaconda3\\lib\\urllib\\request.py\u001b[0m in \u001b[0;36m_open\u001b[1;34m(self, req, data)\u001b[0m\n\u001b[0;32m    532\u001b[0m \u001b[1;33m\u001b[0m\u001b[0m\n\u001b[0;32m    533\u001b[0m         \u001b[0mprotocol\u001b[0m \u001b[1;33m=\u001b[0m \u001b[0mreq\u001b[0m\u001b[1;33m.\u001b[0m\u001b[0mtype\u001b[0m\u001b[1;33m\u001b[0m\u001b[1;33m\u001b[0m\u001b[0m\n\u001b[1;32m--> 534\u001b[1;33m         result = self._call_chain(self.handle_open, protocol, protocol +\n\u001b[0m\u001b[0;32m    535\u001b[0m                                   '_open', req)\n\u001b[0;32m    536\u001b[0m         \u001b[1;32mif\u001b[0m \u001b[0mresult\u001b[0m\u001b[1;33m:\u001b[0m\u001b[1;33m\u001b[0m\u001b[1;33m\u001b[0m\u001b[0m\n",
      "\u001b[1;32m~\\anaconda3\\lib\\urllib\\request.py\u001b[0m in \u001b[0;36m_call_chain\u001b[1;34m(self, chain, kind, meth_name, *args)\u001b[0m\n\u001b[0;32m    492\u001b[0m         \u001b[1;32mfor\u001b[0m \u001b[0mhandler\u001b[0m \u001b[1;32min\u001b[0m \u001b[0mhandlers\u001b[0m\u001b[1;33m:\u001b[0m\u001b[1;33m\u001b[0m\u001b[1;33m\u001b[0m\u001b[0m\n\u001b[0;32m    493\u001b[0m             \u001b[0mfunc\u001b[0m \u001b[1;33m=\u001b[0m \u001b[0mgetattr\u001b[0m\u001b[1;33m(\u001b[0m\u001b[0mhandler\u001b[0m\u001b[1;33m,\u001b[0m \u001b[0mmeth_name\u001b[0m\u001b[1;33m)\u001b[0m\u001b[1;33m\u001b[0m\u001b[1;33m\u001b[0m\u001b[0m\n\u001b[1;32m--> 494\u001b[1;33m             \u001b[0mresult\u001b[0m \u001b[1;33m=\u001b[0m \u001b[0mfunc\u001b[0m\u001b[1;33m(\u001b[0m\u001b[1;33m*\u001b[0m\u001b[0margs\u001b[0m\u001b[1;33m)\u001b[0m\u001b[1;33m\u001b[0m\u001b[1;33m\u001b[0m\u001b[0m\n\u001b[0m\u001b[0;32m    495\u001b[0m             \u001b[1;32mif\u001b[0m \u001b[0mresult\u001b[0m \u001b[1;32mis\u001b[0m \u001b[1;32mnot\u001b[0m \u001b[1;32mNone\u001b[0m\u001b[1;33m:\u001b[0m\u001b[1;33m\u001b[0m\u001b[1;33m\u001b[0m\u001b[0m\n\u001b[0;32m    496\u001b[0m                 \u001b[1;32mreturn\u001b[0m \u001b[0mresult\u001b[0m\u001b[1;33m\u001b[0m\u001b[1;33m\u001b[0m\u001b[0m\n",
      "\u001b[1;32m~\\anaconda3\\lib\\urllib\\request.py\u001b[0m in \u001b[0;36mhttps_open\u001b[1;34m(self, req)\u001b[0m\n\u001b[0;32m   1387\u001b[0m \u001b[1;33m\u001b[0m\u001b[0m\n\u001b[0;32m   1388\u001b[0m         \u001b[1;32mdef\u001b[0m \u001b[0mhttps_open\u001b[0m\u001b[1;33m(\u001b[0m\u001b[0mself\u001b[0m\u001b[1;33m,\u001b[0m \u001b[0mreq\u001b[0m\u001b[1;33m)\u001b[0m\u001b[1;33m:\u001b[0m\u001b[1;33m\u001b[0m\u001b[1;33m\u001b[0m\u001b[0m\n\u001b[1;32m-> 1389\u001b[1;33m             return self.do_open(http.client.HTTPSConnection, req,\n\u001b[0m\u001b[0;32m   1390\u001b[0m                 context=self._context, check_hostname=self._check_hostname)\n\u001b[0;32m   1391\u001b[0m \u001b[1;33m\u001b[0m\u001b[0m\n",
      "\u001b[1;32m~\\anaconda3\\lib\\urllib\\request.py\u001b[0m in \u001b[0;36mdo_open\u001b[1;34m(self, http_class, req, **http_conn_args)\u001b[0m\n\u001b[0;32m   1348\u001b[0m             \u001b[1;32mexcept\u001b[0m \u001b[0mOSError\u001b[0m \u001b[1;32mas\u001b[0m \u001b[0merr\u001b[0m\u001b[1;33m:\u001b[0m \u001b[1;31m# timeout error\u001b[0m\u001b[1;33m\u001b[0m\u001b[1;33m\u001b[0m\u001b[0m\n\u001b[0;32m   1349\u001b[0m                 \u001b[1;32mraise\u001b[0m \u001b[0mURLError\u001b[0m\u001b[1;33m(\u001b[0m\u001b[0merr\u001b[0m\u001b[1;33m)\u001b[0m\u001b[1;33m\u001b[0m\u001b[1;33m\u001b[0m\u001b[0m\n\u001b[1;32m-> 1350\u001b[1;33m             \u001b[0mr\u001b[0m \u001b[1;33m=\u001b[0m \u001b[0mh\u001b[0m\u001b[1;33m.\u001b[0m\u001b[0mgetresponse\u001b[0m\u001b[1;33m(\u001b[0m\u001b[1;33m)\u001b[0m\u001b[1;33m\u001b[0m\u001b[1;33m\u001b[0m\u001b[0m\n\u001b[0m\u001b[0;32m   1351\u001b[0m         \u001b[1;32mexcept\u001b[0m\u001b[1;33m:\u001b[0m\u001b[1;33m\u001b[0m\u001b[1;33m\u001b[0m\u001b[0m\n\u001b[0;32m   1352\u001b[0m             \u001b[0mh\u001b[0m\u001b[1;33m.\u001b[0m\u001b[0mclose\u001b[0m\u001b[1;33m(\u001b[0m\u001b[1;33m)\u001b[0m\u001b[1;33m\u001b[0m\u001b[1;33m\u001b[0m\u001b[0m\n",
      "\u001b[1;32m~\\anaconda3\\lib\\http\\client.py\u001b[0m in \u001b[0;36mgetresponse\u001b[1;34m(self)\u001b[0m\n\u001b[0;32m   1369\u001b[0m         \u001b[1;32mtry\u001b[0m\u001b[1;33m:\u001b[0m\u001b[1;33m\u001b[0m\u001b[1;33m\u001b[0m\u001b[0m\n\u001b[0;32m   1370\u001b[0m             \u001b[1;32mtry\u001b[0m\u001b[1;33m:\u001b[0m\u001b[1;33m\u001b[0m\u001b[1;33m\u001b[0m\u001b[0m\n\u001b[1;32m-> 1371\u001b[1;33m                 \u001b[0mresponse\u001b[0m\u001b[1;33m.\u001b[0m\u001b[0mbegin\u001b[0m\u001b[1;33m(\u001b[0m\u001b[1;33m)\u001b[0m\u001b[1;33m\u001b[0m\u001b[1;33m\u001b[0m\u001b[0m\n\u001b[0m\u001b[0;32m   1372\u001b[0m             \u001b[1;32mexcept\u001b[0m \u001b[0mConnectionError\u001b[0m\u001b[1;33m:\u001b[0m\u001b[1;33m\u001b[0m\u001b[1;33m\u001b[0m\u001b[0m\n\u001b[0;32m   1373\u001b[0m                 \u001b[0mself\u001b[0m\u001b[1;33m.\u001b[0m\u001b[0mclose\u001b[0m\u001b[1;33m(\u001b[0m\u001b[1;33m)\u001b[0m\u001b[1;33m\u001b[0m\u001b[1;33m\u001b[0m\u001b[0m\n",
      "\u001b[1;32m~\\anaconda3\\lib\\http\\client.py\u001b[0m in \u001b[0;36mbegin\u001b[1;34m(self)\u001b[0m\n\u001b[0;32m    336\u001b[0m             \u001b[1;32mraise\u001b[0m \u001b[0mUnknownProtocol\u001b[0m\u001b[1;33m(\u001b[0m\u001b[0mversion\u001b[0m\u001b[1;33m)\u001b[0m\u001b[1;33m\u001b[0m\u001b[1;33m\u001b[0m\u001b[0m\n\u001b[0;32m    337\u001b[0m \u001b[1;33m\u001b[0m\u001b[0m\n\u001b[1;32m--> 338\u001b[1;33m         \u001b[0mself\u001b[0m\u001b[1;33m.\u001b[0m\u001b[0mheaders\u001b[0m \u001b[1;33m=\u001b[0m \u001b[0mself\u001b[0m\u001b[1;33m.\u001b[0m\u001b[0mmsg\u001b[0m \u001b[1;33m=\u001b[0m \u001b[0mparse_headers\u001b[0m\u001b[1;33m(\u001b[0m\u001b[0mself\u001b[0m\u001b[1;33m.\u001b[0m\u001b[0mfp\u001b[0m\u001b[1;33m)\u001b[0m\u001b[1;33m\u001b[0m\u001b[1;33m\u001b[0m\u001b[0m\n\u001b[0m\u001b[0;32m    339\u001b[0m \u001b[1;33m\u001b[0m\u001b[0m\n\u001b[0;32m    340\u001b[0m         \u001b[1;32mif\u001b[0m \u001b[0mself\u001b[0m\u001b[1;33m.\u001b[0m\u001b[0mdebuglevel\u001b[0m \u001b[1;33m>\u001b[0m \u001b[1;36m0\u001b[0m\u001b[1;33m:\u001b[0m\u001b[1;33m\u001b[0m\u001b[1;33m\u001b[0m\u001b[0m\n",
      "\u001b[1;32m~\\anaconda3\\lib\\http\\client.py\u001b[0m in \u001b[0;36mparse_headers\u001b[1;34m(fp, _class)\u001b[0m\n\u001b[0;32m    233\u001b[0m \u001b[1;33m\u001b[0m\u001b[0m\n\u001b[0;32m    234\u001b[0m     \"\"\"\n\u001b[1;32m--> 235\u001b[1;33m     \u001b[0mheaders\u001b[0m \u001b[1;33m=\u001b[0m \u001b[0m_read_headers\u001b[0m\u001b[1;33m(\u001b[0m\u001b[0mfp\u001b[0m\u001b[1;33m)\u001b[0m\u001b[1;33m\u001b[0m\u001b[1;33m\u001b[0m\u001b[0m\n\u001b[0m\u001b[0;32m    236\u001b[0m     \u001b[0mhstring\u001b[0m \u001b[1;33m=\u001b[0m \u001b[1;34mb''\u001b[0m\u001b[1;33m.\u001b[0m\u001b[0mjoin\u001b[0m\u001b[1;33m(\u001b[0m\u001b[0mheaders\u001b[0m\u001b[1;33m)\u001b[0m\u001b[1;33m.\u001b[0m\u001b[0mdecode\u001b[0m\u001b[1;33m(\u001b[0m\u001b[1;34m'iso-8859-1'\u001b[0m\u001b[1;33m)\u001b[0m\u001b[1;33m\u001b[0m\u001b[1;33m\u001b[0m\u001b[0m\n\u001b[0;32m    237\u001b[0m     \u001b[1;32mreturn\u001b[0m \u001b[0memail\u001b[0m\u001b[1;33m.\u001b[0m\u001b[0mparser\u001b[0m\u001b[1;33m.\u001b[0m\u001b[0mParser\u001b[0m\u001b[1;33m(\u001b[0m\u001b[0m_class\u001b[0m\u001b[1;33m=\u001b[0m\u001b[0m_class\u001b[0m\u001b[1;33m)\u001b[0m\u001b[1;33m.\u001b[0m\u001b[0mparsestr\u001b[0m\u001b[1;33m(\u001b[0m\u001b[0mhstring\u001b[0m\u001b[1;33m)\u001b[0m\u001b[1;33m\u001b[0m\u001b[1;33m\u001b[0m\u001b[0m\n",
      "\u001b[1;32m~\\anaconda3\\lib\\http\\client.py\u001b[0m in \u001b[0;36m_read_headers\u001b[1;34m(fp)\u001b[0m\n\u001b[0;32m    213\u001b[0m     \u001b[0mheaders\u001b[0m \u001b[1;33m=\u001b[0m \u001b[1;33m[\u001b[0m\u001b[1;33m]\u001b[0m\u001b[1;33m\u001b[0m\u001b[1;33m\u001b[0m\u001b[0m\n\u001b[0;32m    214\u001b[0m     \u001b[1;32mwhile\u001b[0m \u001b[1;32mTrue\u001b[0m\u001b[1;33m:\u001b[0m\u001b[1;33m\u001b[0m\u001b[1;33m\u001b[0m\u001b[0m\n\u001b[1;32m--> 215\u001b[1;33m         \u001b[0mline\u001b[0m \u001b[1;33m=\u001b[0m \u001b[0mfp\u001b[0m\u001b[1;33m.\u001b[0m\u001b[0mreadline\u001b[0m\u001b[1;33m(\u001b[0m\u001b[0m_MAXLINE\u001b[0m \u001b[1;33m+\u001b[0m \u001b[1;36m1\u001b[0m\u001b[1;33m)\u001b[0m\u001b[1;33m\u001b[0m\u001b[1;33m\u001b[0m\u001b[0m\n\u001b[0m\u001b[0;32m    216\u001b[0m         \u001b[1;32mif\u001b[0m \u001b[0mlen\u001b[0m\u001b[1;33m(\u001b[0m\u001b[0mline\u001b[0m\u001b[1;33m)\u001b[0m \u001b[1;33m>\u001b[0m \u001b[0m_MAXLINE\u001b[0m\u001b[1;33m:\u001b[0m\u001b[1;33m\u001b[0m\u001b[1;33m\u001b[0m\u001b[0m\n\u001b[0;32m    217\u001b[0m             \u001b[1;32mraise\u001b[0m \u001b[0mLineTooLong\u001b[0m\u001b[1;33m(\u001b[0m\u001b[1;34m\"header line\"\u001b[0m\u001b[1;33m)\u001b[0m\u001b[1;33m\u001b[0m\u001b[1;33m\u001b[0m\u001b[0m\n",
      "\u001b[1;32m~\\anaconda3\\lib\\socket.py\u001b[0m in \u001b[0;36mreadinto\u001b[1;34m(self, b)\u001b[0m\n\u001b[0;32m    702\u001b[0m         \u001b[1;32mwhile\u001b[0m \u001b[1;32mTrue\u001b[0m\u001b[1;33m:\u001b[0m\u001b[1;33m\u001b[0m\u001b[1;33m\u001b[0m\u001b[0m\n\u001b[0;32m    703\u001b[0m             \u001b[1;32mtry\u001b[0m\u001b[1;33m:\u001b[0m\u001b[1;33m\u001b[0m\u001b[1;33m\u001b[0m\u001b[0m\n\u001b[1;32m--> 704\u001b[1;33m                 \u001b[1;32mreturn\u001b[0m \u001b[0mself\u001b[0m\u001b[1;33m.\u001b[0m\u001b[0m_sock\u001b[0m\u001b[1;33m.\u001b[0m\u001b[0mrecv_into\u001b[0m\u001b[1;33m(\u001b[0m\u001b[0mb\u001b[0m\u001b[1;33m)\u001b[0m\u001b[1;33m\u001b[0m\u001b[1;33m\u001b[0m\u001b[0m\n\u001b[0m\u001b[0;32m    705\u001b[0m             \u001b[1;32mexcept\u001b[0m \u001b[0mtimeout\u001b[0m\u001b[1;33m:\u001b[0m\u001b[1;33m\u001b[0m\u001b[1;33m\u001b[0m\u001b[0m\n\u001b[0;32m    706\u001b[0m                 \u001b[0mself\u001b[0m\u001b[1;33m.\u001b[0m\u001b[0m_timeout_occurred\u001b[0m \u001b[1;33m=\u001b[0m \u001b[1;32mTrue\u001b[0m\u001b[1;33m\u001b[0m\u001b[1;33m\u001b[0m\u001b[0m\n",
      "\u001b[1;32m~\\anaconda3\\lib\\ssl.py\u001b[0m in \u001b[0;36mrecv_into\u001b[1;34m(self, buffer, nbytes, flags)\u001b[0m\n\u001b[0;32m   1239\u001b[0m                   \u001b[1;34m\"non-zero flags not allowed in calls to recv_into() on %s\"\u001b[0m \u001b[1;33m%\u001b[0m\u001b[1;33m\u001b[0m\u001b[1;33m\u001b[0m\u001b[0m\n\u001b[0;32m   1240\u001b[0m                   self.__class__)\n\u001b[1;32m-> 1241\u001b[1;33m             \u001b[1;32mreturn\u001b[0m \u001b[0mself\u001b[0m\u001b[1;33m.\u001b[0m\u001b[0mread\u001b[0m\u001b[1;33m(\u001b[0m\u001b[0mnbytes\u001b[0m\u001b[1;33m,\u001b[0m \u001b[0mbuffer\u001b[0m\u001b[1;33m)\u001b[0m\u001b[1;33m\u001b[0m\u001b[1;33m\u001b[0m\u001b[0m\n\u001b[0m\u001b[0;32m   1242\u001b[0m         \u001b[1;32melse\u001b[0m\u001b[1;33m:\u001b[0m\u001b[1;33m\u001b[0m\u001b[1;33m\u001b[0m\u001b[0m\n\u001b[0;32m   1243\u001b[0m             \u001b[1;32mreturn\u001b[0m \u001b[0msuper\u001b[0m\u001b[1;33m(\u001b[0m\u001b[1;33m)\u001b[0m\u001b[1;33m.\u001b[0m\u001b[0mrecv_into\u001b[0m\u001b[1;33m(\u001b[0m\u001b[0mbuffer\u001b[0m\u001b[1;33m,\u001b[0m \u001b[0mnbytes\u001b[0m\u001b[1;33m,\u001b[0m \u001b[0mflags\u001b[0m\u001b[1;33m)\u001b[0m\u001b[1;33m\u001b[0m\u001b[1;33m\u001b[0m\u001b[0m\n",
      "\u001b[1;32m~\\anaconda3\\lib\\ssl.py\u001b[0m in \u001b[0;36mread\u001b[1;34m(self, len, buffer)\u001b[0m\n\u001b[0;32m   1097\u001b[0m         \u001b[1;32mtry\u001b[0m\u001b[1;33m:\u001b[0m\u001b[1;33m\u001b[0m\u001b[1;33m\u001b[0m\u001b[0m\n\u001b[0;32m   1098\u001b[0m             \u001b[1;32mif\u001b[0m \u001b[0mbuffer\u001b[0m \u001b[1;32mis\u001b[0m \u001b[1;32mnot\u001b[0m \u001b[1;32mNone\u001b[0m\u001b[1;33m:\u001b[0m\u001b[1;33m\u001b[0m\u001b[1;33m\u001b[0m\u001b[0m\n\u001b[1;32m-> 1099\u001b[1;33m                 \u001b[1;32mreturn\u001b[0m \u001b[0mself\u001b[0m\u001b[1;33m.\u001b[0m\u001b[0m_sslobj\u001b[0m\u001b[1;33m.\u001b[0m\u001b[0mread\u001b[0m\u001b[1;33m(\u001b[0m\u001b[0mlen\u001b[0m\u001b[1;33m,\u001b[0m \u001b[0mbuffer\u001b[0m\u001b[1;33m)\u001b[0m\u001b[1;33m\u001b[0m\u001b[1;33m\u001b[0m\u001b[0m\n\u001b[0m\u001b[0;32m   1100\u001b[0m             \u001b[1;32melse\u001b[0m\u001b[1;33m:\u001b[0m\u001b[1;33m\u001b[0m\u001b[1;33m\u001b[0m\u001b[0m\n\u001b[0;32m   1101\u001b[0m                 \u001b[1;32mreturn\u001b[0m \u001b[0mself\u001b[0m\u001b[1;33m.\u001b[0m\u001b[0m_sslobj\u001b[0m\u001b[1;33m.\u001b[0m\u001b[0mread\u001b[0m\u001b[1;33m(\u001b[0m\u001b[0mlen\u001b[0m\u001b[1;33m)\u001b[0m\u001b[1;33m\u001b[0m\u001b[1;33m\u001b[0m\u001b[0m\n",
      "\u001b[1;31mConnectionAbortedError\u001b[0m: [WinError 10053] An established connection was aborted by the software in your host machine"
     ]
    }
   ],
   "source": [
    "# Available seaborn datasets\n",
    "print(sns.get_dataset_names())"
   ]
  },
  {
   "cell_type": "markdown",
   "id": "468010de",
   "metadata": {
    "scrolled": false
   },
   "source": [
    "<h2><p style='color:white;background-color:blue;padding:5px;margin:2px;text-align:center;border-color:red;border-style:dotted;border-width:5px'>Load Diamond Dataset</p></h2>"
   ]
  },
  {
   "cell_type": "code",
   "execution_count": null,
   "id": "8d51dacb",
   "metadata": {},
   "outputs": [],
   "source": [
    "import pandas as pd\n",
    "diamonds=pd.read_csv('diamonds.csv')\n",
    "diamonds.head()"
   ]
  },
  {
   "cell_type": "code",
   "execution_count": null,
   "id": "72e4eae2",
   "metadata": {},
   "outputs": [],
   "source": [
    "# Info\n",
    "diamonds.info()"
   ]
  },
  {
   "cell_type": "markdown",
   "id": "01849b7f",
   "metadata": {},
   "source": [
    "<h2><p style='color:white;background-color:blue;padding:5px;margin:2px;text-align:center;border-color:red;border-style:dotted;border-width:5px'>Descriptive Statistics</p></h2>"
   ]
  },
  {
   "cell_type": "code",
   "execution_count": null,
   "id": "01764d5f",
   "metadata": {},
   "outputs": [],
   "source": [
    "# Descriptive Statistics\n",
    "diamonds.describe()"
   ]
  },
  {
   "cell_type": "code",
   "execution_count": null,
   "id": "59d574fd",
   "metadata": {},
   "outputs": [],
   "source": [
    "# Seperating X,Y\n",
    "Y=diamonds.price\n",
    "X=diamonds.drop('price',axis=1)"
   ]
  },
  {
   "cell_type": "markdown",
   "id": "6a613be6",
   "metadata": {},
   "source": [
    "<h2><p style='color:white;background-color:blue;padding:5px;margin:2px;text-align:center;border-color:red;border-style:dotted;border-width:5px'>Visualization</p></h2>"
   ]
  },
  {
   "cell_type": "code",
   "execution_count": null,
   "id": "c2727f0e",
   "metadata": {},
   "outputs": [],
   "source": [
    "# visualization outlier boxplot\n",
    "X.boxplot(figsize=(15,15))\n",
    "plt.show()"
   ]
  },
  {
   "cell_type": "markdown",
   "id": "d977d892",
   "metadata": {},
   "source": [
    "<h1><p style='color:blue;background-color:yellow;padding:20px;margin:14px;text-align:center;border-color:red;border-style:dotted;border-width:10px'> Measures of Central Tendency</p></h1>"
   ]
  },
  {
   "cell_type": "markdown",
   "id": "14ed8d3e",
   "metadata": {},
   "source": [
    "## measures of Central Tendancy\n",
    "## >1 Mean\n",
    "## >2 Median\n",
    "## >3 Mode"
   ]
  },
  {
   "cell_type": "code",
   "execution_count": null,
   "id": "aefae0be",
   "metadata": {},
   "outputs": [],
   "source": [
    "X.mode()"
   ]
  },
  {
   "cell_type": "code",
   "execution_count": null,
   "id": "19285b5a",
   "metadata": {},
   "outputs": [],
   "source": [
    "# Median carat\n",
    "cut['carat'].median()\n",
    "cut['carat'].median().plot(kind='bar')"
   ]
  },
  {
   "cell_type": "code",
   "execution_count": null,
   "id": "08d4bd04",
   "metadata": {},
   "outputs": [],
   "source": [
    "diamonds.mode()"
   ]
  },
  {
   "cell_type": "code",
   "execution_count": null,
   "id": "2cc04320",
   "metadata": {},
   "outputs": [],
   "source": [
    "# InteractiveShell.ast_node_interactivity='none'\n",
    "\n",
    "c=1\n",
    "plt.figure(figsize=(20,20))\n",
    "for i in diamonds.columns:\n",
    "    if diamonds[i].dtype=='object':\n",
    "#         diamonds[i].mode()\n",
    "        plt.subplot(3,3,c,label=i)\n",
    "        diamonds[i].value_counts().plot(kind='bar')\n",
    "        plt.legend()\n",
    "        plt.tight_layout()\n",
    "        c+=1\n",
    "\n",
    "plt.show()    #     plt.subplots()"
   ]
  },
  {
   "cell_type": "markdown",
   "id": "dd85cdfb",
   "metadata": {},
   "source": [
    "<h1><p style='color:blue;background-color:yellow;padding:20px;margin:14px;text-align:center;border-color:red;border-style:dotted;border-width:10px'> Mean carat</p></h1>"
   ]
  },
  {
   "cell_type": "code",
   "execution_count": null,
   "id": "314f367b",
   "metadata": {},
   "outputs": [],
   "source": [
    "cut=X.groupby('cut')\n",
    "cut.mean()\n",
    "cut.mean().plot(kind='bar')\n",
    "plt.show()"
   ]
  },
  {
   "cell_type": "markdown",
   "id": "ed9c30c3",
   "metadata": {},
   "source": [
    "<h1><p style='color:blue;background-color:yellow;padding:20px;margin:14px;text-align:center;border-color:red;border-style:dotted;border-width:10px'>Analyse Mean and median for color and Clarity</p></h1>"
   ]
  },
  {
   "cell_type": "code",
   "execution_count": null,
   "id": "cfd084e3",
   "metadata": {},
   "outputs": [],
   "source": [
    "# Mean carat\n",
    "cut=X.groupby('color')\n",
    "cut.mean()\n",
    "cut.mean().plot(kind='bar')\n",
    "plt.show()"
   ]
  },
  {
   "cell_type": "code",
   "execution_count": null,
   "id": "43d47251",
   "metadata": {},
   "outputs": [],
   "source": [
    "# Mean`\n",
    "cut=X.groupby('cut')\n",
    "cut.mean()\n",
    "cut.mean().plot(kind='bar')\n",
    "plt.show()"
   ]
  },
  {
   "cell_type": "code",
   "execution_count": null,
   "id": "f1ad6698",
   "metadata": {},
   "outputs": [],
   "source": [
    "X.columns"
   ]
  },
  {
   "cell_type": "code",
   "execution_count": null,
   "id": "43bf8684",
   "metadata": {},
   "outputs": [],
   "source": [
    "X.mode()"
   ]
  },
  {
   "cell_type": "markdown",
   "id": "15598fb3",
   "metadata": {},
   "source": [
    "<h2><p style='color:white;background-color:blue;padding:5px;margin:2px;text-align:center;border-color:red;border-style:dotted;border-width:5px'> Measures of Dispersion</p></h2>"
   ]
  },
  {
   "cell_type": "markdown",
   "id": "d7eadd13",
   "metadata": {},
   "source": [
    "<h3>1. Range <br>\n",
    "2. Variance <br>\n",
    "3. Standard Deviation</h3>"
   ]
  },
  {
   "cell_type": "markdown",
   "id": "04e801fb",
   "metadata": {},
   "source": [
    "<h3><p style='color:black;background-color:blue;padding:5px;margin:2px;text-align:center;border-color:red;border-style:dotted;border-width:5px'>Range</p></h3>"
   ]
  },
  {
   "cell_type": "code",
   "execution_count": null,
   "id": "6927638c",
   "metadata": {},
   "outputs": [],
   "source": [
    "# range\n",
    "diamonds.max()"
   ]
  },
  {
   "cell_type": "code",
   "execution_count": null,
   "id": "5611cea1",
   "metadata": {},
   "outputs": [],
   "source": [
    "diamonds.min()"
   ]
  },
  {
   "cell_type": "code",
   "execution_count": null,
   "id": "cd0c99f0",
   "metadata": {
    "scrolled": true
   },
   "outputs": [],
   "source": [
    "(diamonds.max())-(diamonds.min())"
   ]
  },
  {
   "cell_type": "code",
   "execution_count": null,
   "id": "97368d9c",
   "metadata": {},
   "outputs": [],
   "source": [
    "# Range\n",
    "(X.max())-(X.min()).plot(kind='bar',color='green')"
   ]
  },
  {
   "cell_type": "code",
   "execution_count": null,
   "id": "11c32ee3",
   "metadata": {},
   "outputs": [],
   "source": [
    "print('price:',Y.max()-Y.min())"
   ]
  },
  {
   "cell_type": "markdown",
   "id": "2f1d8268",
   "metadata": {},
   "source": [
    "<h2><p style='color:white;background-color:blue;padding:5px;margin:2px;text-align:center;border-color:red;border-style:dotted;border-width:5px'>Variance</p></h2>\n",
    "\n",
    "# <p style='text-align:center'>  $ \\sigma^2 = \\frac{\\displaystyle\\sum_{i=1}^{n}(x_i - \\bar{x})^2} {n} $\n",
    "</p>\n",
    "Variance is a measure of dispersion that takes into account the spread of all data points in a data set.\n",
    "\n",
    "In simple words, the variance is a measure of how far a set of data are dispersed out from their mean or average value. It is denoted as \n",
    "σ\n",
    "2\n",
    ".\n",
    "\n",
    "It is always non-negative since each term in the variance sum is squared and therefore the result is either positive or zero.\n"
   ]
  },
  {
   "cell_type": "code",
   "execution_count": null,
   "id": "872fec32",
   "metadata": {},
   "outputs": [],
   "source": [
    "Y[0:6]"
   ]
  },
  {
   "cell_type": "code",
   "execution_count": null,
   "id": "373cd6c8",
   "metadata": {},
   "outputs": [],
   "source": [
    "sum([(i-Y.mean())**2 for i in Y])/len(Y)-1"
   ]
  },
  {
   "cell_type": "markdown",
   "id": "03caa754",
   "metadata": {},
   "source": [
    "<h2> Variation sample</h2>"
   ]
  },
  {
   "cell_type": "code",
   "execution_count": null,
   "id": "768175e5",
   "metadata": {},
   "outputs": [],
   "source": [
    "# Variation sample\n",
    "deviation=[(i-Y.mean())**2 for i in Y]\n",
    "sum(deviation)/len(Y)-1"
   ]
  },
  {
   "cell_type": "code",
   "execution_count": null,
   "id": "c5f6d115",
   "metadata": {},
   "outputs": [],
   "source": [
    "# Variation Population\n",
    "Y.var()"
   ]
  },
  {
   "cell_type": "markdown",
   "id": "6baf23c9",
   "metadata": {},
   "source": [
    "<h2><p style='color:white;background-color:blue;padding:5px;margin:2px;text-align:center;border-color:red;border-style:dotted;border-width:5px'>Standard Deviation</p></h2>\n",
    "<h1><p style='text-align:center'>$\\sqrt{\\frac{1}{N-1} \\sum_{i=1}^N (x_i - \\overline{x})^2} $</p></h1>\n",
    "\n",
    "Standard deviation is the spread of a group of numbers from the mean."
   ]
  },
  {
   "cell_type": "code",
   "execution_count": null,
   "id": "6ad78516",
   "metadata": {},
   "outputs": [],
   "source": [
    "np.sqrt(sum(deviation)/len(Y)-1)"
   ]
  },
  {
   "cell_type": "code",
   "execution_count": null,
   "id": "3c00daa4",
   "metadata": {},
   "outputs": [],
   "source": [
    "Y.std()"
   ]
  },
  {
   "cell_type": "markdown",
   "id": "3765bb50",
   "metadata": {},
   "source": [
    "<h2><p style='color:white;background-color:blue;padding:5px;margin:2px;text-align:center;border-color:red;border-style:dotted;border-width:5px'>Box and Whisker plot</p></h2>"
   ]
  },
  {
   "cell_type": "code",
   "execution_count": null,
   "id": "66d8dc15",
   "metadata": {},
   "outputs": [],
   "source": [
    "box=plt.boxplot(Y)\n",
    "\n",
    "\n",
    "val={}\n",
    "plt.figure(figsize=(20,20))\n",
    "x=1\n",
    "for i in box:\n",
    "    comp=[item.get_ydata() for item in box[i]]\n",
    "    val[i]=comp\n",
    "val"
   ]
  },
  {
   "cell_type": "markdown",
   "id": "48e3ffdb",
   "metadata": {},
   "source": [
    "# <p style='color:green;background-color:yellow;border-style:solid;border-color:red;margin:5px;text-align:center;padding:5px'>Transformation</p>"
   ]
  },
  {
   "cell_type": "markdown",
   "id": "46437e52",
   "metadata": {},
   "source": [
    "<h3><p style='color:white;background-color:blue;padding:5px;margin:2px;text-align:center;border-color:red;border-style:dotted;border-width:5px'>Skewness</p></h3>"
   ]
  },
  {
   "cell_type": "markdown",
   "id": "95f1de04",
   "metadata": {},
   "source": [
    "<p>Skewness refers to a distortion or asymmetry that deviates from the symmetrical bell curve, or normal distribution, in a set of data. If the curve is shifted to the left or to the right, it is said to be skewed.</p>\n",
    "\n",
    "<img src='https://i.imgur.com/6SH4wau.png'>\n",
    "<p>* Less than -1 or greater than 1, then the distribution is highly skewed.\n",
    "* Between -1 and -0.5 or 0.5 and 1, then the distribution is moderately skewed.\n",
    "* Between -0.5 and 0.5, then the distribution is approx. symmetric.</p>"
   ]
  },
  {
   "cell_type": "code",
   "execution_count": null,
   "id": "b114cc6d",
   "metadata": {},
   "outputs": [],
   "source": [
    "Y.hist()"
   ]
  },
  {
   "cell_type": "code",
   "execution_count": null,
   "id": "43d997c8",
   "metadata": {},
   "outputs": [],
   "source": [
    "sns.displot(Y,kde=True)\n",
    "plt.show()"
   ]
  },
  {
   "cell_type": "code",
   "execution_count": null,
   "id": "08494b25",
   "metadata": {},
   "outputs": [],
   "source": [
    "Y.skew()"
   ]
  },
  {
   "cell_type": "code",
   "execution_count": null,
   "id": "23ceaae0",
   "metadata": {},
   "outputs": [],
   "source": [
    "np.log(Y).hist()\n",
    "(np.log(Y)).skew()"
   ]
  },
  {
   "cell_type": "code",
   "execution_count": null,
   "id": "fb242612",
   "metadata": {},
   "outputs": [],
   "source": [
    "np.log2(Y).hist()\n",
    "np.log2(Y).skew()"
   ]
  },
  {
   "cell_type": "code",
   "execution_count": null,
   "id": "1ee3dd2e",
   "metadata": {},
   "outputs": [],
   "source": [
    "from scipy.stats import boxcox"
   ]
  },
  {
   "cell_type": "code",
   "execution_count": null,
   "id": "b894db1f",
   "metadata": {},
   "outputs": [],
   "source": [
    "sns.displot(boxcox(Y)[0],kde=True)\n",
    "pd.Series(boxcox(Y)[0]).skew()"
   ]
  },
  {
   "cell_type": "markdown",
   "id": "181bf103",
   "metadata": {},
   "source": [
    "<h3><p style='color:white;background-color:blue;padding:5px;margin:2px;text-align:center;border-color:red;border-style:dotted;border-width:5px'>Kurtosis</p></h3>\n",
    "\n",
    "<img src='https://editor.analyticsvidhya.com/uploads/57983kurt1.png' alt='kurt img is supposed to be here if not chage the srcc link'>\n",
    "\n",
    "* Kurtosis tells you the height and sharpness if the central peak.\n",
    "* A normal distribution will have kurtosis value exactly 3. It is called as Mesokurtic.\n",
    "* A distribution with kurtosis <3 is called Platykurtic. Compared to a Normal distribution, the tails are shorter and central peak is lower and broader.\n",
    "* A distribution with kurtosis >3 is called as Leptokurtic, where tails are longer and central peak is taller and sharper."
   ]
  },
  {
   "cell_type": "code",
   "execution_count": null,
   "id": "9b60b723",
   "metadata": {},
   "outputs": [],
   "source": [
    "Y.kurt()"
   ]
  },
  {
   "cell_type": "markdown",
   "id": "e1dd3bd9",
   "metadata": {},
   "source": [
    "# <p style='color:green;background-color:yellow;border-style:solid;border-color:red;margin:5px;text-align:center;padding:5px'>Encoding</p>"
   ]
  },
  {
   "cell_type": "markdown",
   "id": "33f336f3",
   "metadata": {},
   "source": [
    "<h3><p style='color:white;background-color:blue;padding:5px;margin:2px;text-align:center;border-color:red;border-style:dotted;border-width:5px'>Continuous to Discreate</p></h3>"
   ]
  },
  {
   "cell_type": "code",
   "execution_count": null,
   "id": "eaa69fd0",
   "metadata": {},
   "outputs": [],
   "source": [
    "# Binning\n",
    "Y.max()-Y.min()"
   ]
  },
  {
   "cell_type": "code",
   "execution_count": null,
   "id": "1d9c8749",
   "metadata": {},
   "outputs": [],
   "source": [
    "bins=[0,3000,5000,8000,50000]\n",
    "ninned=pd.cut(Y,bins=bins,labels=['cheap','moderate','expensive','premium'])\n",
    "ninned.value_counts().plot(kind='bar')\n",
    "plt.show()"
   ]
  },
  {
   "cell_type": "markdown",
   "id": "fbccb782",
   "metadata": {},
   "source": [
    "# <p style='color:green;background-color:yellow;border-style:solid;border-color:red;margin:5px;text-align:center;padding:5px'>Label Encoding</p>"
   ]
  },
  {
   "cell_type": "code",
   "execution_count": null,
   "id": "05e50495",
   "metadata": {},
   "outputs": [],
   "source": [
    "# Label Encoding\n",
    "from sklearn.preprocessing import LabelEncoder\n",
    "\n",
    "le=LabelEncoder()\n",
    "Y_enc=le.fit_transform(ninned)\n",
    "Y_enc"
   ]
  }
 ],
 "metadata": {
  "kernelspec": {
   "display_name": "Python 3 (ipykernel)",
   "language": "python",
   "name": "python3"
  },
  "language_info": {
   "codemirror_mode": {
    "name": "ipython",
    "version": 3
   },
   "file_extension": ".py",
   "mimetype": "text/x-python",
   "name": "python",
   "nbconvert_exporter": "python",
   "pygments_lexer": "ipython3",
   "version": "3.9.7"
  }
 },
 "nbformat": 4,
 "nbformat_minor": 5
}
